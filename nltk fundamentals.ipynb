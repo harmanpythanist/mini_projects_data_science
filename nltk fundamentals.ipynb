{
 "cells": [
  {
   "cell_type": "code",
   "execution_count": 1,
   "id": "1a1668a7-1ba4-4251-85b0-75454be508bc",
   "metadata": {},
   "outputs": [
    {
     "name": "stderr",
     "output_type": "stream",
     "text": [
      "[nltk_data] Downloading package punkt_tab to C:\\Users\\I .\n",
      "[nltk_data]     J\\AppData\\Roaming\\nltk_data...\n",
      "[nltk_data]   Package punkt_tab is already up-to-date!\n",
      "[nltk_data] Downloading package punkt to C:\\Users\\I .\n",
      "[nltk_data]     J\\AppData\\Roaming\\nltk_data...\n",
      "[nltk_data]   Package punkt is already up-to-date!\n",
      "[nltk_data] Downloading package stopwords to C:\\Users\\I .\n",
      "[nltk_data]     J\\AppData\\Roaming\\nltk_data...\n",
      "[nltk_data]   Package stopwords is already up-to-date!\n"
     ]
    },
    {
     "data": {
      "text/plain": [
       "True"
      ]
     },
     "execution_count": 1,
     "metadata": {},
     "output_type": "execute_result"
    }
   ],
   "source": [
    "# pip install nltk\n",
    "import nltk\n",
    "nltk.download('punkt_tab') # ! , . \n",
    "nltk.download('punkt')     # ''\"\"?  \n",
    "nltk.download('stopwords') # is, the, of, from, an"
   ]
  },
  {
   "cell_type": "markdown",
   "id": "a99d74b6-2b7f-4a8a-bc8e-fd9ecc9d8462",
   "metadata": {},
   "source": [
    "## Tokenization"
   ]
  },
  {
   "cell_type": "code",
   "execution_count": 1,
   "id": "6a7acc9b-4635-4738-b01d-861654e8ff8d",
   "metadata": {},
   "outputs": [
    {
     "data": {
      "text/plain": [
       "['hi', 'there', '.', 'We', 'live', 'in', 'Pakistan']"
      ]
     },
     "execution_count": 1,
     "metadata": {},
     "output_type": "execute_result"
    }
   ],
   "source": [
    "from nltk.tokenize import word_tokenize\n",
    "word_tokenize(\"hi there. We live in Pakistan\")"
   ]
  },
  {
   "cell_type": "code",
   "execution_count": 2,
   "id": "b4fe36ad-4d01-422f-93fe-24c694242c74",
   "metadata": {},
   "outputs": [
    {
     "data": {
      "text/plain": [
       "['hi',\n",
       " 'there',\n",
       " '.',\n",
       " 'We',\n",
       " 'live',\n",
       " 'in',\n",
       " 'Pakistan',\n",
       " 'I',\n",
       " 'live',\n",
       " 'in',\n",
       " 'Lahore']"
      ]
     },
     "execution_count": 2,
     "metadata": {},
     "output_type": "execute_result"
    }
   ],
   "source": [
    "a = word_tokenize(\"hi there. We live in Pakistan \\n I live in Lahore\")\n",
    "a"
   ]
  },
  {
   "cell_type": "code",
   "execution_count": 5,
   "id": "a25b7c2e-771a-44ad-8bba-ea6c9eb495d4",
   "metadata": {},
   "outputs": [
    {
     "data": {
      "text/plain": [
       "['We', 'live', 'in', 'Pakistan', 'I', 'live', 'in']"
      ]
     },
     "execution_count": 5,
     "metadata": {},
     "output_type": "execute_result"
    }
   ],
   "source": [
    "a[3:-1]"
   ]
  },
  {
   "cell_type": "markdown",
   "id": "1a5a1015-59d5-4b67-ba7d-e947db7a0751",
   "metadata": {},
   "source": [
    "## Text cleaning"
   ]
  },
  {
   "cell_type": "code",
   "execution_count": 16,
   "id": "442ac0fa-7c6f-4f84-be16-c052830e116a",
   "metadata": {},
   "outputs": [
    {
     "name": "stdout",
     "output_type": "stream",
     "text": [
      "['nlp', 'fun', 'amazing', 'powerful', 'useful']\n"
     ]
    }
   ],
   "source": [
    "from nltk.corpus import stopwords\n",
    "import string\n",
    "\n",
    "\n",
    "text = \"NLP is fun, amazing, powerful, and useful.\"\n",
    "\n",
    "tokens = word_tokenize(text.lower())\n",
    "clean_tokens = []\n",
    "\n",
    "for i in tokens:\n",
    "    if i not in stopwords.words('english') and i not in string.punctuation:\n",
    "        clean_tokens.append(i)\n",
    "print(clean_tokens)"
   ]
  },
  {
   "cell_type": "markdown",
   "id": "6c5e9e05-b15c-47ce-893f-c187d454d63c",
   "metadata": {},
   "source": [
    "## Text to numbers"
   ]
  },
  {
   "cell_type": "code",
   "execution_count": 7,
   "id": "1b289384-b232-45b8-8810-e0a1dbe807b2",
   "metadata": {},
   "outputs": [
    {
     "name": "stdout",
     "output_type": "stream",
     "text": [
      "['is' 'powerful' 'python' 'study' 'we']\n",
      "[[0 0 1 1 1]\n",
      " [1 1 1 0 0]\n",
      " [0 0 0 1 1]]\n"
     ]
    }
   ],
   "source": [
    "from sklearn.feature_extraction.text import CountVectorizer\n",
    "docs = [\"We study Python\", \"Python is powerful\", \"We study\"]\n",
    "vectorizer = CountVectorizer()\n",
    "X = vectorizer.fit_transform(docs)\n",
    "print(vectorizer.get_feature_names_out())\n",
    "print(X.toarray())"
   ]
  },
  {
   "cell_type": "markdown",
   "id": "c945a31f-e273-41c9-8faa-391ce023d80b",
   "metadata": {},
   "source": [
    "## Spam and not spam"
   ]
  },
  {
   "cell_type": "code",
   "execution_count": 8,
   "id": "94e749cf-3744-48e9-80cd-78f8ef39aa29",
   "metadata": {},
   "outputs": [
    {
     "name": "stdout",
     "output_type": "stream",
     "text": [
      "Accuracy: 1.0\n"
     ]
    }
   ],
   "source": [
    "from sklearn.model_selection import train_test_split\n",
    "from sklearn.linear_model import LogisticRegression\n",
    "from sklearn.metrics import accuracy_score\n",
    "\n",
    "texts = [\"Buy now\", \"Limited offer\", \"Let's meet tomorrow\", \"How are you?\", \"Win a prize\"]\n",
    "labels = [1, 1, 0, 0, 1]  # 1=spam, 0=not spam\n",
    "\n",
    "vectorizer = CountVectorizer()\n",
    "X = vectorizer.fit_transform(texts)\n",
    "\n",
    "X_train, X_test, y_train, y_test = train_test_split(X, labels, test_size=0.2)\n",
    "\n",
    "model = LogisticRegression()\n",
    "model.fit(X_train, y_train)\n",
    "\n",
    "pred = model.predict(X_test)\n",
    "print(\"Accuracy:\", accuracy_score(y_test, pred))"
   ]
  },
  {
   "cell_type": "code",
   "execution_count": 9,
   "id": "b74cb398-2c48-4374-9824-68e390e145bb",
   "metadata": {},
   "outputs": [
    {
     "name": "stdout",
     "output_type": "stream",
     "text": [
      "1\n"
     ]
    }
   ],
   "source": [
    "new_text = [\"SALE SALE SALE, FREE FREE\"]\n",
    "new_vec = vectorizer.transform(new_text)\n",
    "prediction = model.predict(new_vec)[0]\n",
    "\n",
    "print(prediction)"
   ]
  },
  {
   "cell_type": "code",
   "execution_count": null,
   "id": "0a7727f9-70aa-4869-82f0-84a81edb6e9c",
   "metadata": {},
   "outputs": [],
   "source": []
  },
  {
   "cell_type": "code",
   "execution_count": null,
   "id": "f282d1b7-2d37-471c-85a0-1b0064973d26",
   "metadata": {},
   "outputs": [],
   "source": []
  },
  {
   "cell_type": "code",
   "execution_count": null,
   "id": "63bb2505-84f0-44dc-a621-07beb9cec9e0",
   "metadata": {},
   "outputs": [],
   "source": []
  },
  {
   "cell_type": "code",
   "execution_count": null,
   "id": "fc765b5d-3d88-4715-88ff-fa8fe4f851be",
   "metadata": {},
   "outputs": [],
   "source": []
  }
 ],
 "metadata": {
  "kernelspec": {
   "display_name": "Python 3 (ipykernel)",
   "language": "python",
   "name": "python3"
  },
  "language_info": {
   "codemirror_mode": {
    "name": "ipython",
    "version": 3
   },
   "file_extension": ".py",
   "mimetype": "text/x-python",
   "name": "python",
   "nbconvert_exporter": "python",
   "pygments_lexer": "ipython3",
   "version": "3.12.7"
  }
 },
 "nbformat": 4,
 "nbformat_minor": 5
}

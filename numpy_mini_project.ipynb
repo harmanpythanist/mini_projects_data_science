{
 "cells": [
  {
   "cell_type": "code",
   "execution_count": 10,
   "id": "c91d351b-f708-4d53-839a-15cde12fba93",
   "metadata": {},
   "outputs": [
    {
     "name": "stdout",
     "output_type": "stream",
     "text": [
      "Total Attendance Per Student:\n",
      "Student 1: 13.0 days\n",
      "Student 2: 11.0 days\n",
      "Student 3: 5.0 days\n",
      "Student 4: 15.0 days\n",
      "Student 5: 11.0 days\n",
      "Student 6: 10.0 days\n",
      "Student 7: 8.0 days\n",
      "Student 8: 14.0 days\n",
      "Student 9: 10.0 days\n",
      "Student 10: 15.0 days\n",
      "\n",
      "Percentage Attendance Per Day:\n",
      "Day 1: 80.0%\n",
      "Day 2: 70.0%\n",
      "Day 3: 80.0%\n",
      "Day 4: 50.0%\n",
      "Day 5: 80.0%\n",
      "Day 6: 70.0%\n",
      "Day 7: 70.0%\n",
      "Day 8: 90.0%\n",
      "Day 9: 80.0%\n",
      "Day 10: 90.0%\n",
      "Day 11: 70.0%\n",
      "Day 12: 60.0%\n",
      "Day 13: 70.0%\n",
      "Day 14: 100.0%\n",
      "Day 15: 60.0%\n",
      "\n",
      "Percentage Attendance Per Student:\n",
      "Student 1: 86.67%\n",
      "Student 2: 73.33%\n",
      "Student 3: 33.33%\n",
      "Student 4: 100.0%\n",
      "Student 5: 73.33%\n",
      "Student 6: 66.67%\n",
      "Student 7: 53.33%\n",
      "Student 8: 93.33%\n",
      "Student 9: 66.67%\n",
      "Student 10: 100.0%\n",
      "\n",
      "Students With Attendance Below 75%:\n",
      "Student 2 — 73.33%\n",
      "Student 3 — 33.33%\n",
      "Student 5 — 73.33%\n",
      "Student 6 — 66.67%\n",
      "Student 7 — 53.33%\n",
      "Student 9 — 66.67%\n"
     ]
    }
   ],
   "source": [
    "import numpy as np\n",
    "\n",
    "# S10 students × 15 days\n",
    "# 1 = Present, 0 = Absent\n",
    "attendance_data = np.array([\n",
    "    [1, 1, 1, 0, 1, 1, 0, 1, 1, 1, 1, 1, 1, 1, 1],\n",
    "    [1, 1, 0, 0, 1, 1, 1, 1, 0, 1, 1, 0, 1, 1, 1],\n",
    "    [0, 0, 0, 0, 1, 1, 1, 0, 1, 0, 0, 0, 0, 1, 0],\n",
    "    [1, 1, 1, 1, 1, 1, 1, 1, 1, 1, 1, 1, 1, 1, 1],\n",
    "    [1, 1, 1, 1, 1, 0, 0, 1, 0, 1, 1, 1, 1, 1, 0],\n",
    "    [1, 0, 1, 0, 1, 0, 1, 1, 1, 1, 0, 1, 0, 1, 1],\n",
    "    [0, 1, 1, 0, 0, 0, 1, 1, 1, 1, 1, 0, 0, 1, 0],\n",
    "    [1, 1, 1, 1, 1, 1, 1, 1, 1, 1, 1, 1, 1, 1, 0],\n",
    "    [1, 0, 1, 1, 0, 1, 0, 1, 1, 1, 0, 0, 1, 1, 1],\n",
    "    [1, 1, 1, 1, 1, 1, 1, 1, 1, 1, 1, 1, 1, 1, 1]\n",
    "])\n",
    "\n",
    "num_students, num_days = attendance_data.shape\n",
    "\n",
    "# total attendance per student\n",
    "total_attendance = np.zeros(num_students)\n",
    "counter = 0\n",
    "for i in attendance_data:\n",
    "    att = sum(i)\n",
    "    total_attendance[counter] = att\n",
    "    counter += 1\n",
    "    \n",
    "\n",
    "# average attendance per day\n",
    "average_daily_attendance = np.zeros(num_days)\n",
    "counter = 0\n",
    "for j in range(num_days):\n",
    "    summ = 0\n",
    "    for i in attendance_data:\n",
    "        summ += i[counter]\n",
    "    counter += 1\n",
    "    av = (summ / num_students) * 100\n",
    "    average_daily_attendance[j] = av\n",
    " \n",
    "\n",
    "# Calculate attendance percentage per student\n",
    "attendance_percentage = (total_attendance / num_days) * 100\n",
    "\n",
    "# students with attendance < 75%        \n",
    "low_attendance_students = np.where(attendance_percentage < 75)[0] # returns indices\n",
    "\n",
    "# Display results\n",
    "print(\"Total Attendance Per Student:\")\n",
    "i = 1\n",
    "for total in total_attendance:\n",
    "    print(f\"Student {i}: {total} days\")\n",
    "    i += 1\n",
    "\n",
    "print(\"\\nPercentage Attendance Per Day:\")\n",
    "for i, avg in enumerate(average_daily_attendance):\n",
    "    print(f\"Day {i+1}: {avg}%\")\n",
    "\n",
    "print(\"\\nPercentage Attendance Per Student:\")\n",
    "for i, avg in enumerate(attendance_percentage):\n",
    "    print(f\"Student {i+1}: {round(avg,2)}%\")\n",
    "\n",
    "print(\"\\nStudents With Attendance Below 75%:\")\n",
    "if len(low_attendance_students) == 0:\n",
    "    print(\"None\")\n",
    "else:\n",
    "    for i in low_attendance_students:\n",
    "        print(f\"Student {i+1} — {round(attendance_percentage[i], 2)}%\")\n",
    "\n"
   ]
  },
  {
   "cell_type": "code",
   "execution_count": 7,
   "id": "7491f2ff-2f11-4381-bc61-f7493925d894",
   "metadata": {},
   "outputs": [],
   "source": [
    "import numpy as np"
   ]
  },
  {
   "cell_type": "code",
   "execution_count": 11,
   "id": "deab83ec-7c93-4176-bc16-e797b5c00006",
   "metadata": {},
   "outputs": [
    {
     "data": {
      "text/plain": [
       "array([0., 0., 0., 0., 0., 0., 0., 0., 0., 0., 0., 0., 0., 0., 0.])"
      ]
     },
     "execution_count": 11,
     "metadata": {},
     "output_type": "execute_result"
    }
   ],
   "source": [
    "np.zeros(15)"
   ]
  },
  {
   "cell_type": "code",
   "execution_count": 12,
   "id": "caa6878b-e49b-4db0-8c32-88b1492d030c",
   "metadata": {},
   "outputs": [
    {
     "data": {
      "text/plain": [
       "array([1., 1., 1., 1., 1., 1., 1., 1., 1., 1., 1., 1., 1., 1., 1.])"
      ]
     },
     "execution_count": 12,
     "metadata": {},
     "output_type": "execute_result"
    }
   ],
   "source": [
    "np.ones(15)"
   ]
  },
  {
   "cell_type": "code",
   "execution_count": 16,
   "id": "761d7995-bb97-4d8a-be2e-befe03969c94",
   "metadata": {},
   "outputs": [
    {
     "data": {
      "text/plain": [
       "array([[1., 0., 0., 0., 0., 0., 0., 0., 0., 0.],\n",
       "       [0., 1., 0., 0., 0., 0., 0., 0., 0., 0.],\n",
       "       [0., 0., 1., 0., 0., 0., 0., 0., 0., 0.],\n",
       "       [0., 0., 0., 1., 0., 0., 0., 0., 0., 0.],\n",
       "       [0., 0., 0., 0., 1., 0., 0., 0., 0., 0.],\n",
       "       [0., 0., 0., 0., 0., 1., 0., 0., 0., 0.],\n",
       "       [0., 0., 0., 0., 0., 0., 1., 0., 0., 0.],\n",
       "       [0., 0., 0., 0., 0., 0., 0., 1., 0., 0.],\n",
       "       [0., 0., 0., 0., 0., 0., 0., 0., 1., 0.],\n",
       "       [0., 0., 0., 0., 0., 0., 0., 0., 0., 1.]])"
      ]
     },
     "execution_count": 16,
     "metadata": {},
     "output_type": "execute_result"
    }
   ],
   "source": [
    "np.eye(10)"
   ]
  },
  {
   "cell_type": "code",
   "execution_count": 18,
   "id": "6fb9b370-47bd-40eb-84d5-7e3eef4051de",
   "metadata": {},
   "outputs": [],
   "source": [
    "np.save('saved_file.npy', np.eye(40))"
   ]
  },
  {
   "cell_type": "code",
   "execution_count": 20,
   "id": "67e1f008-1f0d-4fe0-8db0-a14b87720a00",
   "metadata": {},
   "outputs": [],
   "source": [
    "a = np.load('saved_file.npy')"
   ]
  },
  {
   "cell_type": "code",
   "execution_count": 22,
   "id": "36e07279-7d91-41d6-abc3-aee59331cba6",
   "metadata": {},
   "outputs": [
    {
     "data": {
      "text/plain": [
       "(40, 40)"
      ]
     },
     "execution_count": 22,
     "metadata": {},
     "output_type": "execute_result"
    }
   ],
   "source": [
    "a.shape"
   ]
  },
  {
   "cell_type": "code",
   "execution_count": null,
   "id": "693963f9-32d3-41ef-b56d-c12d10bef08d",
   "metadata": {},
   "outputs": [],
   "source": []
  },
  {
   "cell_type": "markdown",
   "id": "64f4a372-7165-445b-9153-0d4751ce2eab",
   "metadata": {},
   "source": [
    "## Dictionaries"
   ]
  },
  {
   "cell_type": "code",
   "execution_count": 4,
   "id": "0b2436a7-1b57-4a76-b042-bb0a24d9bd55",
   "metadata": {},
   "outputs": [
    {
     "name": "stdin",
     "output_type": "stream",
     "text": [
      "Enter the student's name:  ali\n",
      "Enter the student's score (0-10):  3\n",
      "Enter the student's name:  Hamza\n",
      "Enter the student's score (0-10):  3\n",
      "Enter the student's name:  Ali\n",
      "Enter the student's score (0-10):  4\n",
      "Enter the student's name:  Harman\n",
      "Enter the student's score (0-10):  6\n",
      "Enter the student's name:  Zohaib\n",
      "Enter the student's score (0-10):  9\n",
      "Enter the student's name:  Harman\n",
      "Enter the student's score (0-10):  4\n",
      "Enter the student's name:  ahmad\n",
      "Enter the student's score (0-10):  4\n",
      "Enter the student's name:  ali \n",
      "Enter the student's score (0-10):  8\n",
      "Enter the student's name:  ahmad \n",
      "Enter the student's score (0-10):  6\n",
      "Enter the student's name:  ahmad\n",
      "Enter the student's score (0-10):  8\n",
      "Enter the student's name:  Zohaib\n",
      "Enter the student's score (0-10):  6\n",
      "Enter the student's name:  \n"
     ]
    },
    {
     "name": "stdout",
     "output_type": "stream",
     "text": [
      "Ali : 4.0\n",
      "Hamza : 3.0\n",
      "Harman : 5.0\n",
      "Zohaib : 7.5\n",
      "ahmad : 6.0\n",
      "ahmad  : 6.0\n",
      "ali : 3.0\n",
      "ali  : 8.0\n"
     ]
    }
   ],
   "source": [
    "school_class = {}\n",
    "\n",
    "while True:\n",
    "    name = input(\"Enter the student's name: \")\n",
    "    if name == '':\n",
    "        break\n",
    "    \n",
    "    score = int(input(\"Enter the student's score (0-10): \"))\n",
    "    if score not in range(0, 11):\n",
    "\t    break\n",
    "    \n",
    "    if name in school_class:\n",
    "        school_class[name] += (score,)\n",
    "    else:\n",
    "        school_class[name] = (score,)\n",
    "        \n",
    "for name in sorted(school_class.keys()):\n",
    "    adding = 0\n",
    "    counter = 0\n",
    "    for score in school_class[name]:\n",
    "        adding += score\n",
    "        counter += 1\n",
    "    print(name, \":\", adding / counter)"
   ]
  },
  {
   "cell_type": "code",
   "execution_count": 5,
   "id": "1d0a0da1-fa09-4799-a5ac-a3a04c39ecd4",
   "metadata": {},
   "outputs": [
    {
     "data": {
      "text/plain": [
       "{'ali': (3,),\n",
       " 'Hamza': (3,),\n",
       " 'Ali': (4,),\n",
       " 'Harman': (6, 4),\n",
       " 'Zohaib': (9, 6),\n",
       " 'ahmad': (4, 8),\n",
       " 'ali ': (8,),\n",
       " 'ahmad ': (6,)}"
      ]
     },
     "execution_count": 5,
     "metadata": {},
     "output_type": "execute_result"
    }
   ],
   "source": [
    "school_class"
   ]
  },
  {
   "cell_type": "code",
   "execution_count": null,
   "id": "5d33a884-c7f9-4e9f-aa54-fd0817e988de",
   "metadata": {},
   "outputs": [],
   "source": []
  }
 ],
 "metadata": {
  "kernelspec": {
   "display_name": "Python 3 (ipykernel)",
   "language": "python",
   "name": "python3"
  },
  "language_info": {
   "codemirror_mode": {
    "name": "ipython",
    "version": 3
   },
   "file_extension": ".py",
   "mimetype": "text/x-python",
   "name": "python",
   "nbconvert_exporter": "python",
   "pygments_lexer": "ipython3",
   "version": "3.12.7"
  }
 },
 "nbformat": 4,
 "nbformat_minor": 5
}
